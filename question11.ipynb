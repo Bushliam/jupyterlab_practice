{
 "cells": [
  {
   "cell_type": "markdown",
   "id": "641a8b06-039c-4dfe-98b9-007657a5dbde",
   "metadata": {},
   "source": [
    "# Liam Bush \n",
    "Notebook for assignment 7"
   ]
  },
  {
   "cell_type": "code",
   "execution_count": 1,
   "id": "cf945626-25e1-4ca2-b27f-84df62dc378e",
   "metadata": {},
   "outputs": [
    {
     "name": "stdout",
     "output_type": "stream",
     "text": [
      "Mean: 5.0\n"
     ]
    }
   ],
   "source": [
    "def compute_mean(numbers):\n",
    "    mean = sum(numbers) / len(numbers)\n",
    "    print(\"Mean:\", mean)\n",
    "\n",
    "compute_mean([2, 4, 6, 8])"
   ]
  },
  {
   "cell_type": "markdown",
   "id": "6d215e0e-0909-4a5c-8321-1090c5d6eb4d",
   "metadata": {},
   "source": [
    "### Explanation\n",
    "\n",
    "This Python code calculates the mean of a list of numbers. The mean, often denoted by \\( \\chi \\), is a measure of central tendency that represents the average value of a dataset. The mean can be calculated using different formulas:\n",
    "\n",
    "1. The mean can be calculated by summing up all the values in the list and then dividing by the number of values in the list, expressed as:\n",
    "\n",
    "\\[ \\chi = \\frac{\\sum_{i=1}^{n} x_i}{n} \\]\n",
    "\n",
    "2. Another way to express the mean is by considering it as the average of all values in the list, expressed as:\n",
    "\n",
    "\\[ \\chi = \\frac{x_1 + x_2 + \\ldots + x_n}{n} \\]\n",
    "\n",
    "In the provided code, the function `compute_mean()` takes a list of numbers as input, calculates the mean using the first formula, and prints the result."
   ]
  },
  {
   "cell_type": "code",
   "execution_count": null,
   "id": "9c736d70-61e0-45fa-a96c-d9c142b55a40",
   "metadata": {},
   "outputs": [],
   "source": []
  }
 ],
 "metadata": {
  "kernelspec": {
   "display_name": "Python 3 (ipykernel)",
   "language": "python",
   "name": "python3"
  },
  "language_info": {
   "codemirror_mode": {
    "name": "ipython",
    "version": 3
   },
   "file_extension": ".py",
   "mimetype": "text/x-python",
   "name": "python",
   "nbconvert_exporter": "python",
   "pygments_lexer": "ipython3",
   "version": "3.12.2"
  }
 },
 "nbformat": 4,
 "nbformat_minor": 5
}
